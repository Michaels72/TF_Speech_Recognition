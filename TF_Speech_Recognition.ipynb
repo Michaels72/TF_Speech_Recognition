{
  "nbformat": 4,
  "nbformat_minor": 0,
  "metadata": {
    "colab": {
      "name": "TF_Speech_Recognition.ipynb",
      "version": "0.3.2",
      "provenance": [],
      "collapsed_sections": []
    },
    "kernelspec": {
      "name": "python3",
      "display_name": "Python 3"
    },
    "accelerator": "GPU"
  },
  "cells": [
    {
      "metadata": {
        "_uuid": "380c22d03aa32cb02563babaf256ee0468de8476",
        "trusted": true,
        "id": "hCf32NrxO95G",
        "colab_type": "code",
        "outputId": "8d5c67a7-15d7-400b-e76e-1cd5b142ac61",
        "colab": {
          "base_uri": "https://localhost:8080/",
          "height": 51
        }
      },
      "cell_type": "code",
      "source": [
        "import glob\n",
        "import os\n",
        "import pandas as pd\n",
        "import numpy as np\n",
        "import librosa\n",
        "import librosa.display\n",
        "import matplotlib.pyplot as plt\n",
        "%matplotlib inline\n",
        "import IPython\n",
        "\n",
        "from keras.models import Sequential\n",
        "from keras.layers import Dense, Dropout, Activation, Flatten, Convolution2D, MaxPooling2D, Conv2D\n",
        "from keras.optimizers import Adam\n",
        "from keras.utils import np_utils\n",
        "from sklearn import metrics\n",
        "from sklearn.preprocessing import LabelEncoder\n",
        "\n",
        "import os\n",
        "\n",
        "# Any results you write to the current directory are saved as output.\n",
        "from google.colab import drive\n",
        "drive.mount('/content/gdrive')"
      ],
      "execution_count": 1,
      "outputs": [
        {
          "output_type": "stream",
          "text": [
            "Using TensorFlow backend.\n"
          ],
          "name": "stderr"
        },
        {
          "output_type": "stream",
          "text": [
            "Drive already mounted at /content/gdrive; to attempt to forcibly remount, call drive.mount(\"/content/gdrive\", force_remount=True).\n"
          ],
          "name": "stdout"
        }
      ]
    },
    {
      "metadata": {
        "id": "18D9PnqxZTpV",
        "colab_type": "code",
        "colab": {
          "base_uri": "https://localhost:8080/",
          "height": 51
        },
        "outputId": "76a093cc-5f31-4fec-cb27-004d4cb175a5"
      },
      "cell_type": "code",
      "source": [
        "print(\"The current directory is: \", os.getcwd())\n",
        "import os\n",
        "os.chdir(\"/content/gdrive/My Drive/Galvanize Adm/TF_Speech_Recognition\")\n",
        "print(\"The current directory is: \", os.getcwd())"
      ],
      "execution_count": 2,
      "outputs": [
        {
          "output_type": "stream",
          "text": [
            "The current directory is:  /content\n",
            "The current directory is:  /content/gdrive/My Drive/Galvanize Adm/TF_Speech_Recognition\n"
          ],
          "name": "stdout"
        }
      ]
    },
    {
      "metadata": {
        "id": "2Un4LDyZZYrZ",
        "colab_type": "code",
        "colab": {
          "base_uri": "https://localhost:8080/",
          "height": 102
        },
        "outputId": "5cfad801-fc81-4a2d-e381-e8eff850f8ea"
      },
      "cell_type": "code",
      "source": [
        "os.listdir()"
      ],
      "execution_count": 3,
      "outputs": [
        {
          "output_type": "execute_result",
          "data": {
            "text/plain": [
              "['TF_Speech_Recognition.ipynb',\n",
              " 'dfff.csv',\n",
              " 'val_list.txt',\n",
              " 'test_list.txt',\n",
              " 'array.csv']"
            ]
          },
          "metadata": {
            "tags": []
          },
          "execution_count": 3
        }
      ]
    },
    {
      "metadata": {
        "_uuid": "e645022200c4b813a18bc272552b8507e28dea95",
        "trusted": true,
        "id": "yGdzD19JO95M",
        "colab_type": "code",
        "colab": {}
      },
      "cell_type": "code",
      "source": [
        "# for use in Kaggle as the audio files are not saved in Colabs - Loading the files, let's see total audio files for each label\n",
        "# label = []\n",
        "# counts = []\n",
        "# for i in os.listdir('../input/train/audio/'):\n",
        "#     label.append(i)\n",
        "#     counts.append(len(os.listdir('../input/train/audio/' + i)))\n",
        "    \n",
        "# df = pd.DataFrame([label, counts]).T.set_index([0])\n",
        "# df"
      ],
      "execution_count": 0,
      "outputs": []
    },
    {
      "metadata": {
        "_uuid": "bf807e977b790d3a633bef1762504ea82235fce0",
        "trusted": true,
        "id": "n-5QUbVGO95U",
        "colab_type": "code",
        "colab": {}
      },
      "cell_type": "code",
      "source": [
        "# # Total number of audio files\n",
        "# np.sum(df[1])"
      ],
      "execution_count": 0,
      "outputs": []
    },
    {
      "metadata": {
        "_uuid": "c6b44e4bbe45145797a05c2416cdce1416edd4ef",
        "trusted": true,
        "id": "a1djgdDyO95a",
        "colab_type": "code",
        "colab": {}
      },
      "cell_type": "code",
      "source": [
        "# os.listdir('../input/')"
      ],
      "execution_count": 0,
      "outputs": []
    },
    {
      "metadata": {
        "_uuid": "17f6e6f0a4bbda1960325d3720e433dcb28a4a40",
        "trusted": true,
        "id": "8Si439CrO95g",
        "colab_type": "code",
        "colab": {}
      },
      "cell_type": "code",
      "source": [
        "# Saving files from test and validation list\n",
        "# test_list = open('../input/train/testing_list.txt').read().split('\\n')\n",
        "# val_list = open('../input/train/validation_list.txt').read().split('\\n')"
      ],
      "execution_count": 0,
      "outputs": []
    },
    {
      "metadata": {
        "trusted": true,
        "_uuid": "2b8a0cf0229f6ae0bc51c45438e53b794aae443e",
        "id": "Ld5dpvqcO95n",
        "colab_type": "code",
        "colab": {}
      },
      "cell_type": "code",
      "source": [
        "# # let us save the above list in our directory, so we can load it afterwards.  This will be easier for us to avoid opening the aduio files\n",
        "# with open(\"test_list.txt\", \"w\") as output:\n",
        "#     output.write(str(test_list))\n",
        "    \n",
        "# with open(\"val_list.txt\", \"w\") as output:\n",
        "#     output.write(str(val_list))"
      ],
      "execution_count": 0,
      "outputs": []
    },
    {
      "metadata": {
        "_uuid": "649c8f92bae04eb7cf9a855233719be2c896fbea",
        "trusted": true,
        "id": "ixCB6ThWO95u",
        "colab_type": "code",
        "colab": {}
      },
      "cell_type": "code",
      "source": [
        "# Checking the lenght of the list\n",
        "# len(test_list), len(val_list)"
      ],
      "execution_count": 0,
      "outputs": []
    },
    {
      "metadata": {
        "_uuid": "ddd8acc2801732d222b9d126f31f076c199c018a",
        "trusted": true,
        "id": "bNrZUKG5O951",
        "colab_type": "code",
        "colab": {}
      },
      "cell_type": "code",
      "source": [
        "#Playint on audio file\n",
        "# IPython.display.Audio('../input/train/audio/right/bf8d5617_nohash_0.wav')"
      ],
      "execution_count": 0,
      "outputs": []
    },
    {
      "metadata": {
        "_uuid": "9742e2eb4208cde9680b3b7d43a4c82769f07b07",
        "trusted": true,
        "id": "zVkME3pIO958",
        "colab_type": "code",
        "colab": {}
      },
      "cell_type": "code",
      "source": [
        "#Labels that Kaggle has asked us to use for the competition\n",
        "# labels_in_test = ['yes', 'no', 'up', 'down', 'left', 'right', 'on', 'off', 'stop', 'go']\n",
        "# df = df.loc[labels_in_test]\n",
        "# df"
      ],
      "execution_count": 0,
      "outputs": []
    },
    {
      "metadata": {
        "_uuid": "54a99c0fbb4c4d220f1fc4bad08a609361e1ac4e",
        "trusted": true,
        "id": "oyFWHIyKO96C",
        "colab_type": "code",
        "colab": {}
      },
      "cell_type": "code",
      "source": [
        "# Total number of files in the labels_in_test\n",
        "# np.sum(df[1])"
      ],
      "execution_count": 0,
      "outputs": []
    },
    {
      "metadata": {
        "_uuid": "d019ef32660db13b6c5e1e09926aae5f801b8cd0",
        "trusted": true,
        "id": "JTh6Us5tO96I",
        "colab_type": "code",
        "colab": {}
      },
      "cell_type": "code",
      "source": [
        "# Loading the audio file as an array using the librosa's mfcc - we do this since our keras model only understands arrays(or numbers) and we\n",
        "# cannot feed the audio file directly.\n",
        "# %%time\n",
        "\n",
        "# def extract_data(folder):\n",
        "#     dff = pd.DataFrame()\n",
        "#     names = []\n",
        "#     features = []\n",
        "    \n",
        "#     for name in os.listdir('../input/train/audio/' + folder):\n",
        "#         data, sampling_rate = librosa.load('../input/train/audio/' + folder + '/' + name, res_type = 'kaiser_fast')\n",
        "#         mfccs = np.mean(librosa.feature.mfcc(y = data, sr = sampling_rate, n_mfcc = 40).T, axis = 0)\n",
        "        \n",
        "#         features.append(mfccs)\n",
        "#         names.append(name)\n",
        "        \n",
        "#     return [names, features]   # the function is written in the names of the files and audio arrays\n",
        "\n",
        "# train_new = pd.Series(labels_in_test).apply(extract_data)   #apply the function for the items in labels_in_test only so that it can \n",
        "                                                              #can make a new DataFrame with the names and features of the audio files\n",
        "# train_new.columns = ['names', 'features']"
      ],
      "execution_count": 0,
      "outputs": []
    },
    {
      "metadata": {
        "_uuid": "f4f26aca48684127ca0a951bde7b2c0c9a6fd36d",
        "trusted": true,
        "id": "9I-ND4_rO96O",
        "colab_type": "code",
        "colab": {}
      },
      "cell_type": "code",
      "source": [
        "# Connecting all the lists into one DataFrame\n",
        "# dfff = pd.DataFrame()\n",
        "# dfff['names'] = train_new[0][0] + train_new[1][0] + train_new[2][0] + train_new[3][0] + train_new[4][0] + train_new[5][0] + train_new[6][0] + train_new[7][0] + train_new[8][0] + train_new[9][0]\n",
        "# dfff['feature'] = train_new[0][1] + train_new[1][1] + train_new[2][1] + train_new[3][1] + train_new[4][1] + train_new[5][1] + train_new[6][1] + train_new[7][1] + train_new[8][1] + train_new[9][1]"
      ],
      "execution_count": 0,
      "outputs": []
    },
    {
      "metadata": {
        "_uuid": "6482c8953f8e6c67492d78c32aa9404bd7b8a133",
        "trusted": true,
        "id": "40swg_SPO96U",
        "colab_type": "code",
        "colab": {}
      },
      "cell_type": "code",
      "source": [
        "# Making a new list for the label column\n",
        "# label_all = []\n",
        "# for index in labels_in_test:\n",
        "#     label_all.append([index] * df.loc[index][1])"
      ],
      "execution_count": 0,
      "outputs": []
    },
    {
      "metadata": {
        "_uuid": "58bb17a274a7a87d865f99f9b90eb11777290d21",
        "trusted": true,
        "id": "QSn3ellCO96Y",
        "colab_type": "code",
        "colab": {}
      },
      "cell_type": "code",
      "source": [
        "# new list for the label column is now being put into the DataFrame\n",
        "# dfff['label'] = [item for sublist in label_all for item in sublist]"
      ],
      "execution_count": 0,
      "outputs": []
    },
    {
      "metadata": {
        "_uuid": "9a8aaf8363ef9d1f2f6e37084b18e50be328cb72",
        "trusted": true,
        "scrolled": true,
        "id": "C3VIhWnBO96f",
        "colab_type": "code",
        "colab": {}
      },
      "cell_type": "code",
      "source": [
        "# print(dfff.shape)\n",
        "# dfff.head()"
      ],
      "execution_count": 0,
      "outputs": []
    },
    {
      "metadata": {
        "_uuid": "a0a3571f945ddd758337d064520ceaf95e2b74f9",
        "trusted": true,
        "id": "cQhUOZoqO96n",
        "colab_type": "code",
        "colab": {}
      },
      "cell_type": "code",
      "source": [
        "# Saving the DataFrame as a csv file to avoid using the audio files going forward\n",
        "# dfff.to_csv(\"dfff.csv\", index = False, sep = ',')"
      ],
      "execution_count": 0,
      "outputs": []
    },
    {
      "metadata": {
        "id": "GAPxovNN0k35",
        "colab_type": "code",
        "colab": {}
      },
      "cell_type": "code",
      "source": [
        "# Converting the string of arrays to a proper array\n",
        "def converter(instr):\n",
        "    return np.fromstring(instr[1:-1],sep=' ')"
      ],
      "execution_count": 0,
      "outputs": []
    },
    {
      "metadata": {
        "id": "7rkSESKYPS3O",
        "colab_type": "code",
        "colab": {}
      },
      "cell_type": "code",
      "source": [
        "dfff = pd.read_csv(\"dfff.csv\", converters = {'feature' : converter})"
      ],
      "execution_count": 0,
      "outputs": []
    },
    {
      "metadata": {
        "id": "T_82n51DmVtT",
        "colab_type": "code",
        "colab": {
          "base_uri": "https://localhost:8080/",
          "height": 204
        },
        "outputId": "5bfc47c4-07e2-477b-f1fc-ad297b7691f7"
      },
      "cell_type": "code",
      "source": [
        "dfff.head()"
      ],
      "execution_count": 6,
      "outputs": [
        {
          "output_type": "execute_result",
          "data": {
            "text/html": [
              "<div>\n",
              "<style scoped>\n",
              "    .dataframe tbody tr th:only-of-type {\n",
              "        vertical-align: middle;\n",
              "    }\n",
              "\n",
              "    .dataframe tbody tr th {\n",
              "        vertical-align: top;\n",
              "    }\n",
              "\n",
              "    .dataframe thead th {\n",
              "        text-align: right;\n",
              "    }\n",
              "</style>\n",
              "<table border=\"1\" class=\"dataframe\">\n",
              "  <thead>\n",
              "    <tr style=\"text-align: right;\">\n",
              "      <th></th>\n",
              "      <th>Unnamed: 0</th>\n",
              "      <th>names</th>\n",
              "      <th>feature</th>\n",
              "      <th>label</th>\n",
              "    </tr>\n",
              "  </thead>\n",
              "  <tbody>\n",
              "    <tr>\n",
              "      <th>0</th>\n",
              "      <td>0</td>\n",
              "      <td>5fe4a278_nohash_1.wav</td>\n",
              "      <td>[-360.960392, 95.2412528, -45.965287, 61.02619...</td>\n",
              "      <td>yes</td>\n",
              "    </tr>\n",
              "    <tr>\n",
              "      <th>1</th>\n",
              "      <td>1</td>\n",
              "      <td>4def68db_nohash_1.wav</td>\n",
              "      <td>[-350.560308, 95.8547696, -18.2142555, 43.4533...</td>\n",
              "      <td>yes</td>\n",
              "    </tr>\n",
              "    <tr>\n",
              "      <th>2</th>\n",
              "      <td>2</td>\n",
              "      <td>3d53244b_nohash_3.wav</td>\n",
              "      <td>[-452.935767, 48.5914362, -8.35673584, 39.4135...</td>\n",
              "      <td>yes</td>\n",
              "    </tr>\n",
              "    <tr>\n",
              "      <th>3</th>\n",
              "      <td>3</td>\n",
              "      <td>62ef962d_nohash_1.wav</td>\n",
              "      <td>[-304.877085, 60.8177152, -32.5946494, 18.1406...</td>\n",
              "      <td>yes</td>\n",
              "    </tr>\n",
              "    <tr>\n",
              "      <th>4</th>\n",
              "      <td>4</td>\n",
              "      <td>264f471d_nohash_3.wav</td>\n",
              "      <td>[-305.40941638, 100.41015856, -2.31436065, 58....</td>\n",
              "      <td>yes</td>\n",
              "    </tr>\n",
              "  </tbody>\n",
              "</table>\n",
              "</div>"
            ],
            "text/plain": [
              "   Unnamed: 0                  names  \\\n",
              "0           0  5fe4a278_nohash_1.wav   \n",
              "1           1  4def68db_nohash_1.wav   \n",
              "2           2  3d53244b_nohash_3.wav   \n",
              "3           3  62ef962d_nohash_1.wav   \n",
              "4           4  264f471d_nohash_3.wav   \n",
              "\n",
              "                                             feature label  \n",
              "0  [-360.960392, 95.2412528, -45.965287, 61.02619...   yes  \n",
              "1  [-350.560308, 95.8547696, -18.2142555, 43.4533...   yes  \n",
              "2  [-452.935767, 48.5914362, -8.35673584, 39.4135...   yes  \n",
              "3  [-304.877085, 60.8177152, -32.5946494, 18.1406...   yes  \n",
              "4  [-305.40941638, 100.41015856, -2.31436065, 58....   yes  "
            ]
          },
          "metadata": {
            "tags": []
          },
          "execution_count": 6
        }
      ]
    },
    {
      "metadata": {
        "trusted": true,
        "_uuid": "cd862f1d911938130919ed7b86284993b523cb53",
        "id": "h2QfNtckO96r",
        "colab_type": "code",
        "colab": {}
      },
      "cell_type": "code",
      "source": [
        "# Loading the test and validation list\n",
        "import ast\n",
        "with open(\"test_list.txt\", \"r\") as f:\n",
        "    test_list = ast.literal_eval(f.read())\n",
        "    \n",
        "with open(\"val_list.txt\", \"r\") as f:\n",
        "    val_list = ast.literal_eval(f.read())"
      ],
      "execution_count": 0,
      "outputs": []
    },
    {
      "metadata": {
        "_uuid": "ab2d5154f3f90b0e9a47c438e23901a49656441d",
        "trusted": true,
        "id": "s5mMuqAjO96x",
        "colab_type": "code",
        "outputId": "11d570b1-1473-4a6d-efe6-435d4cc48fad",
        "colab": {
          "base_uri": "https://localhost:8080/",
          "height": 34
        }
      },
      "cell_type": "code",
      "source": [
        "# Extracting the names of the files which Kaggle has asked us to validate upon\n",
        "val_list_all = pd.Series(val_list[:-1]).apply(lambda x: x.split('/')[1])\n",
        "test_list_all = pd.Series(test_list[:-1]).apply(lambda x: x.split('/')[1])\n",
        "len(val_list_all), len(test_list_all)"
      ],
      "execution_count": 8,
      "outputs": [
        {
          "output_type": "execute_result",
          "data": {
            "text/plain": [
              "(6798, 6835)"
            ]
          },
          "metadata": {
            "tags": []
          },
          "execution_count": 8
        }
      ]
    },
    {
      "metadata": {
        "_uuid": "c0c76abe591a71499c273d280f30357fde22935a",
        "trusted": true,
        "id": "LV1E4YGqO964",
        "colab_type": "code",
        "outputId": "9c9f9380-ba0a-4f58-db2b-61410bcfb5f3",
        "colab": {
          "base_uri": "https://localhost:8080/",
          "height": 51
        }
      },
      "cell_type": "code",
      "source": [
        "# Making a DataFrame from the val_list\n",
        "val = dfff[dfff.names.isin(val_list_all)]\n",
        "val = val.iloc[np.random.permutation(len(val))]  # Shuffle DataFrame rows\n",
        "print(val.shape)\n",
        "\n",
        "train = dfff[~dfff.names.isin(val_list_all)]\n",
        "train = train.iloc[np.random.permutation(len(train))] # Shuffle DataFrame rows\n",
        "print(train.shape)"
      ],
      "execution_count": 9,
      "outputs": [
        {
          "output_type": "stream",
          "text": [
            "(2577, 4)\n",
            "(21105, 4)\n"
          ],
          "name": "stdout"
        }
      ]
    },
    {
      "metadata": {
        "_uuid": "20842150222b8b12c06075cc9f0ee75344e4e88d",
        "trusted": true,
        "id": "opYVZrQ4O96-",
        "colab_type": "code",
        "outputId": "3df13e67-9891-4a73-f6db-f3f6752ea9c9",
        "colab": {
          "base_uri": "https://localhost:8080/",
          "height": 204
        }
      },
      "cell_type": "code",
      "source": [
        "train.head()"
      ],
      "execution_count": 10,
      "outputs": [
        {
          "output_type": "execute_result",
          "data": {
            "text/html": [
              "<div>\n",
              "<style scoped>\n",
              "    .dataframe tbody tr th:only-of-type {\n",
              "        vertical-align: middle;\n",
              "    }\n",
              "\n",
              "    .dataframe tbody tr th {\n",
              "        vertical-align: top;\n",
              "    }\n",
              "\n",
              "    .dataframe thead th {\n",
              "        text-align: right;\n",
              "    }\n",
              "</style>\n",
              "<table border=\"1\" class=\"dataframe\">\n",
              "  <thead>\n",
              "    <tr style=\"text-align: right;\">\n",
              "      <th></th>\n",
              "      <th>Unnamed: 0</th>\n",
              "      <th>names</th>\n",
              "      <th>feature</th>\n",
              "      <th>label</th>\n",
              "    </tr>\n",
              "  </thead>\n",
              "  <tbody>\n",
              "    <tr>\n",
              "      <th>16269</th>\n",
              "      <td>16269</td>\n",
              "      <td>de41f895_nohash_2.wav</td>\n",
              "      <td>[-260.072402, 130.215152, -2.64483555, 8.99604...</td>\n",
              "      <td>on</td>\n",
              "    </tr>\n",
              "    <tr>\n",
              "      <th>10702</th>\n",
              "      <td>10702</td>\n",
              "      <td>3e31dffe_nohash_3.wav</td>\n",
              "      <td>[-447.718219, 114.64052, -10.2324393, 18.95816...</td>\n",
              "      <td>left</td>\n",
              "    </tr>\n",
              "    <tr>\n",
              "      <th>19222</th>\n",
              "      <td>19222</td>\n",
              "      <td>c22d3f18_nohash_1.wav</td>\n",
              "      <td>[-336.906291, 83.9405475, -25.4507612, 52.6283...</td>\n",
              "      <td>stop</td>\n",
              "    </tr>\n",
              "    <tr>\n",
              "      <th>11088</th>\n",
              "      <td>11088</td>\n",
              "      <td>c6ca5d01_nohash_0.wav</td>\n",
              "      <td>[-255.230781, 121.728997, -12.8546624, 59.6240...</td>\n",
              "      <td>left</td>\n",
              "    </tr>\n",
              "    <tr>\n",
              "      <th>10384</th>\n",
              "      <td>10384</td>\n",
              "      <td>3c8dc702_nohash_2.wav</td>\n",
              "      <td>[-366.14613, 55.0088984, -14.4965602, 15.91847...</td>\n",
              "      <td>left</td>\n",
              "    </tr>\n",
              "  </tbody>\n",
              "</table>\n",
              "</div>"
            ],
            "text/plain": [
              "       Unnamed: 0                  names  \\\n",
              "16269       16269  de41f895_nohash_2.wav   \n",
              "10702       10702  3e31dffe_nohash_3.wav   \n",
              "19222       19222  c22d3f18_nohash_1.wav   \n",
              "11088       11088  c6ca5d01_nohash_0.wav   \n",
              "10384       10384  3c8dc702_nohash_2.wav   \n",
              "\n",
              "                                                 feature label  \n",
              "16269  [-260.072402, 130.215152, -2.64483555, 8.99604...    on  \n",
              "10702  [-447.718219, 114.64052, -10.2324393, 18.95816...  left  \n",
              "19222  [-336.906291, 83.9405475, -25.4507612, 52.6283...  stop  \n",
              "11088  [-255.230781, 121.728997, -12.8546624, 59.6240...  left  \n",
              "10384  [-366.14613, 55.0088984, -14.4965602, 15.91847...  left  "
            ]
          },
          "metadata": {
            "tags": []
          },
          "execution_count": 10
        }
      ]
    },
    {
      "metadata": {
        "_uuid": "5697e8801999e4e505f90165a744eee21b4a29ee",
        "trusted": true,
        "id": "H_AiqIZ_O97D",
        "colab_type": "code",
        "colab": {}
      },
      "cell_type": "code",
      "source": [
        "#Splitting into our X and y array\n",
        "X_train = np.array(train.feature.tolist())\n",
        "y_train = np.array(train.label.tolist())\n",
        "\n",
        "X_val = np.array(val.feature.tolist())\n",
        "y_val = np.array(val.label.tolist())\n",
        "\n",
        "lb = LabelEncoder()\n",
        "\n",
        "y_train = np_utils.to_categorical(lb.fit_transform(y_train))\n",
        "y_val = np_utils.to_categorical(lb.fit_transform(y_val))"
      ],
      "execution_count": 0,
      "outputs": []
    },
    {
      "metadata": {
        "_uuid": "8c53525281ddcbc342c546210e541a65e0c05447",
        "trusted": true,
        "id": "Ahyaquy4O97J",
        "colab_type": "code",
        "outputId": "cb9938fe-fba2-4672-8126-27e2024ba577",
        "colab": {
          "base_uri": "https://localhost:8080/",
          "height": 34
        }
      },
      "cell_type": "code",
      "source": [
        "X_train.shape, y_train.shape, X_val.shape, y_val.shape"
      ],
      "execution_count": 12,
      "outputs": [
        {
          "output_type": "execute_result",
          "data": {
            "text/plain": [
              "((21105, 40), (21105, 10), (2577, 40), (2577, 10))"
            ]
          },
          "metadata": {
            "tags": []
          },
          "execution_count": 12
        }
      ]
    },
    {
      "metadata": {
        "_uuid": "1c907447061f0cee1ea3642c297c0f2de74bdbc3",
        "trusted": true,
        "id": "7PCK4B_wO97O",
        "colab_type": "code",
        "colab": {
          "base_uri": "https://localhost:8080/",
          "height": 139
        },
        "outputId": "6b8ef423-754f-464f-c22f-eaa30dc7864d"
      },
      "cell_type": "code",
      "source": [
        "# Here we are using deep learning using a sequential model with three hidden layers\n",
        "ncols = X_train.shape[1]\n",
        "model = Sequential()\n",
        "\n",
        "model.add(Dense(1024, activation = 'relu', input_shape = (ncols,)))\n",
        "model.add(Dropout(0.5))\n",
        "\n",
        "model.add(Dense(512, activation = 'relu'))\n",
        "model.add(Dropout(0.5))\n",
        "\n",
        "model.add(Dense(256, activation = 'relu'))\n",
        "model.add(Dropout(0.5))\n",
        "\n",
        "model.add(Dense(128, activation = 'relu'))\n",
        "model.add(Dropout(0.5))\n",
        "\n",
        "model.add(Dense(y_train.shape[1], activation = 'softmax'))\n",
        "\n",
        "model.compile(optimizer = 'adam', loss = 'categorical_crossentropy', metrics = ['accuracy'])"
      ],
      "execution_count": 13,
      "outputs": [
        {
          "output_type": "stream",
          "text": [
            "WARNING:tensorflow:From /usr/local/lib/python3.6/dist-packages/tensorflow/python/framework/op_def_library.py:263: colocate_with (from tensorflow.python.framework.ops) is deprecated and will be removed in a future version.\n",
            "Instructions for updating:\n",
            "Colocations handled automatically by placer.\n",
            "WARNING:tensorflow:From /usr/local/lib/python3.6/dist-packages/keras/backend/tensorflow_backend.py:3445: calling dropout (from tensorflow.python.ops.nn_ops) with keep_prob is deprecated and will be removed in a future version.\n",
            "Instructions for updating:\n",
            "Please use `rate` instead of `keep_prob`. Rate should be set to `rate = 1 - keep_prob`.\n"
          ],
          "name": "stdout"
        }
      ]
    },
    {
      "metadata": {
        "_uuid": "105aeee16091f95a96530350f173491d1bd45f2a",
        "scrolled": true,
        "trusted": true,
        "id": "5zwgNf0TO97S",
        "colab_type": "code",
        "outputId": "84f6bfd4-59c4-4fec-a45e-824c65e1d4bf",
        "colab": {
          "base_uri": "https://localhost:8080/",
          "height": 496
        }
      },
      "cell_type": "code",
      "source": [
        "# Fitting the model\n",
        "%%time\n",
        "model.fit(X_train, y_train, batch_size = 32, epochs = 10, validation_data = [X_val, y_val])"
      ],
      "execution_count": 131,
      "outputs": [
        {
          "output_type": "stream",
          "text": [
            "WARNING:tensorflow:From /usr/local/lib/python3.6/dist-packages/tensorflow/python/ops/math_ops.py:3066: to_int32 (from tensorflow.python.ops.math_ops) is deprecated and will be removed in a future version.\n",
            "Instructions for updating:\n",
            "Use tf.cast instead.\n",
            "Train on 21105 samples, validate on 2577 samples\n",
            "Epoch 1/10\n",
            "21105/21105 [==============================] - 12s 554us/step - loss: 14.4258 - acc: 0.1020 - val_loss: 14.5795 - val_acc: 0.0955\n",
            "Epoch 2/10\n",
            "21105/21105 [==============================] - 11s 502us/step - loss: 14.4946 - acc: 0.1007 - val_loss: 14.5795 - val_acc: 0.0955\n",
            "Epoch 3/10\n",
            "21105/21105 [==============================] - 11s 540us/step - loss: 14.4890 - acc: 0.1011 - val_loss: 14.5795 - val_acc: 0.0955\n",
            "Epoch 4/10\n",
            "21105/21105 [==============================] - 11s 517us/step - loss: 14.4906 - acc: 0.1010 - val_loss: 14.5795 - val_acc: 0.0955\n",
            "Epoch 5/10\n",
            "21105/21105 [==============================] - 11s 518us/step - loss: 14.4899 - acc: 0.1010 - val_loss: 14.5795 - val_acc: 0.0955\n",
            "Epoch 6/10\n",
            "21105/21105 [==============================] - 11s 521us/step - loss: 14.4883 - acc: 0.1011 - val_loss: 14.5795 - val_acc: 0.0955\n",
            "Epoch 7/10\n",
            "21105/21105 [==============================] - 11s 519us/step - loss: 14.4887 - acc: 0.1011 - val_loss: 14.5795 - val_acc: 0.0955\n",
            "Epoch 8/10\n",
            "21105/21105 [==============================] - 11s 528us/step - loss: 14.4883 - acc: 0.1011 - val_loss: 14.5795 - val_acc: 0.0955\n",
            "Epoch 9/10\n",
            "21105/21105 [==============================] - 11s 528us/step - loss: 14.4876 - acc: 0.1012 - val_loss: 14.5795 - val_acc: 0.0955\n",
            "Epoch 10/10\n",
            "21105/21105 [==============================] - 11s 530us/step - loss: 14.4883 - acc: 0.1011 - val_loss: 14.5795 - val_acc: 0.0955\n",
            "CPU times: user 2min 57s, sys: 14 s, total: 3min 11s\n",
            "Wall time: 1min 51s\n"
          ],
          "name": "stdout"
        },
        {
          "output_type": "execute_result",
          "data": {
            "text/plain": [
              "<keras.callbacks.History at 0x7fd6b8d1df98>"
            ]
          },
          "metadata": {
            "tags": []
          },
          "execution_count": 131
        }
      ]
    },
    {
      "metadata": {
        "_cell_guid": "79c7e3d0-c299-4dcb-8224-4455121ee9b0",
        "_uuid": "d629ff2d2480ee46fbb7e2d37f6b5fab8052498a",
        "scrolled": true,
        "trusted": true,
        "id": "scRrC_lfO97g",
        "colab_type": "code",
        "colab": {}
      },
      "cell_type": "code",
      "source": [
        "# Applying CNN (deep learning)\n",
        "model = Sequential()\n",
        "model.add(Conv2D(32, kernel_size=(2, 2), activation='relu', input_shape=(8, 5, 1)))\n",
        "model.add(MaxPooling2D(pool_size=(2, 2)))\n",
        "model.add(Dropout(0.25))\n",
        "model.add(Flatten())\n",
        "model.add(Dense(128, activation='relu'))\n",
        "model.add(Dropout(0.25))\n",
        "model.add(Dense(y_train.shape[1], activation = 'softmax'))\n",
        "\n",
        "model.compile(optimizer = 'adam', loss = 'categorical_crossentropy', metrics = ['accuracy'])"
      ],
      "execution_count": 0,
      "outputs": []
    },
    {
      "metadata": {
        "trusted": true,
        "_uuid": "c836c6e5f1a473dd23e121e1b19d8f30eb52b6f0",
        "id": "P6J6O5WlO97k",
        "colab_type": "code",
        "outputId": "49250052-7ec5-418c-acbc-6eee07effab2",
        "colab": {
          "base_uri": "https://localhost:8080/",
          "height": 374
        }
      },
      "cell_type": "code",
      "source": [
        "model.summary()"
      ],
      "execution_count": 15,
      "outputs": [
        {
          "output_type": "stream",
          "text": [
            "_________________________________________________________________\n",
            "Layer (type)                 Output Shape              Param #   \n",
            "=================================================================\n",
            "conv2d_1 (Conv2D)            (None, 7, 4, 32)          160       \n",
            "_________________________________________________________________\n",
            "max_pooling2d_1 (MaxPooling2 (None, 3, 2, 32)          0         \n",
            "_________________________________________________________________\n",
            "dropout_5 (Dropout)          (None, 3, 2, 32)          0         \n",
            "_________________________________________________________________\n",
            "flatten_1 (Flatten)          (None, 192)               0         \n",
            "_________________________________________________________________\n",
            "dense_6 (Dense)              (None, 128)               24704     \n",
            "_________________________________________________________________\n",
            "dropout_6 (Dropout)          (None, 128)               0         \n",
            "_________________________________________________________________\n",
            "dense_7 (Dense)              (None, 10)                1290      \n",
            "=================================================================\n",
            "Total params: 26,154\n",
            "Trainable params: 26,154\n",
            "Non-trainable params: 0\n",
            "_________________________________________________________________\n"
          ],
          "name": "stdout"
        }
      ]
    },
    {
      "metadata": {
        "_uuid": "faa94004997978041fee0edfabe8201e2578aa0b",
        "trusted": true,
        "id": "kOh6hNtSO97p",
        "colab_type": "code",
        "outputId": "89dac85d-4de7-48cc-89d9-18517889a68c",
        "colab": {
          "base_uri": "https://localhost:8080/",
          "height": 1856
        }
      },
      "cell_type": "code",
      "source": [
        "# Applying CNN (deep learning)\n",
        "%%time\n",
        "model.fit(X_train.reshape(X_train.shape[0], 8, 5, 1), y_train, batch_size = 32, epochs = 50, validation_data = [X_val.reshape(X_val.shape[0], 8, 5, 1), y_val], verbose = 1)"
      ],
      "execution_count": 16,
      "outputs": [
        {
          "output_type": "stream",
          "text": [
            "WARNING:tensorflow:From /usr/local/lib/python3.6/dist-packages/tensorflow/python/ops/math_ops.py:3066: to_int32 (from tensorflow.python.ops.math_ops) is deprecated and will be removed in a future version.\n",
            "Instructions for updating:\n",
            "Use tf.cast instead.\n",
            "Train on 21105 samples, validate on 2577 samples\n",
            "Epoch 1/50\n",
            "21105/21105 [==============================] - 7s 314us/step - loss: 3.6054 - acc: 0.1504 - val_loss: 2.0993 - val_acc: 0.2142\n",
            "Epoch 2/50\n",
            "21105/21105 [==============================] - 4s 174us/step - loss: 2.1374 - acc: 0.2044 - val_loss: 1.9967 - val_acc: 0.2794\n",
            "Epoch 3/50\n",
            "21105/21105 [==============================] - 4s 177us/step - loss: 2.0645 - acc: 0.2359 - val_loss: 1.9336 - val_acc: 0.3217\n",
            "Epoch 4/50\n",
            "21105/21105 [==============================] - 4s 178us/step - loss: 2.0237 - acc: 0.2606 - val_loss: 1.8970 - val_acc: 0.3279\n",
            "Epoch 5/50\n",
            "21105/21105 [==============================] - 4s 176us/step - loss: 2.0019 - acc: 0.2682 - val_loss: 1.8774 - val_acc: 0.3291\n",
            "Epoch 6/50\n",
            "21105/21105 [==============================] - 4s 176us/step - loss: 1.9883 - acc: 0.2737 - val_loss: 1.8833 - val_acc: 0.3380\n",
            "Epoch 7/50\n",
            "21105/21105 [==============================] - 4s 175us/step - loss: 1.9765 - acc: 0.2802 - val_loss: 1.8519 - val_acc: 0.3582\n",
            "Epoch 8/50\n",
            "21105/21105 [==============================] - 4s 175us/step - loss: 1.9609 - acc: 0.2913 - val_loss: 1.8262 - val_acc: 0.3562\n",
            "Epoch 9/50\n",
            "21105/21105 [==============================] - 4s 175us/step - loss: 1.9510 - acc: 0.2972 - val_loss: 1.8270 - val_acc: 0.3582\n",
            "Epoch 10/50\n",
            "21105/21105 [==============================] - 4s 176us/step - loss: 1.9424 - acc: 0.3036 - val_loss: 1.8073 - val_acc: 0.3663\n",
            "Epoch 11/50\n",
            "21105/21105 [==============================] - 4s 174us/step - loss: 1.9310 - acc: 0.3054 - val_loss: 1.7964 - val_acc: 0.3818\n",
            "Epoch 12/50\n",
            "21105/21105 [==============================] - 4s 175us/step - loss: 1.9156 - acc: 0.3066 - val_loss: 1.7899 - val_acc: 0.3741\n",
            "Epoch 13/50\n",
            "21105/21105 [==============================] - 4s 174us/step - loss: 1.9140 - acc: 0.3104 - val_loss: 1.7840 - val_acc: 0.3834\n",
            "Epoch 14/50\n",
            "21105/21105 [==============================] - 4s 172us/step - loss: 1.9047 - acc: 0.3136 - val_loss: 1.7742 - val_acc: 0.3834\n",
            "Epoch 15/50\n",
            "21105/21105 [==============================] - 4s 174us/step - loss: 1.9044 - acc: 0.3145 - val_loss: 1.7640 - val_acc: 0.3838\n",
            "Epoch 16/50\n",
            "21105/21105 [==============================] - 4s 173us/step - loss: 1.8991 - acc: 0.3144 - val_loss: 1.7486 - val_acc: 0.3880\n",
            "Epoch 17/50\n",
            "21105/21105 [==============================] - 4s 176us/step - loss: 1.8880 - acc: 0.3247 - val_loss: 1.7666 - val_acc: 0.3888\n",
            "Epoch 18/50\n",
            "21105/21105 [==============================] - 4s 174us/step - loss: 1.8846 - acc: 0.3222 - val_loss: 1.7642 - val_acc: 0.3908\n",
            "Epoch 19/50\n",
            "21105/21105 [==============================] - 4s 175us/step - loss: 1.8730 - acc: 0.3220 - val_loss: 1.7502 - val_acc: 0.3981\n",
            "Epoch 20/50\n",
            "21105/21105 [==============================] - 4s 173us/step - loss: 1.8679 - acc: 0.3268 - val_loss: 1.7433 - val_acc: 0.3877\n",
            "Epoch 21/50\n",
            "21105/21105 [==============================] - 4s 172us/step - loss: 1.8722 - acc: 0.3302 - val_loss: 1.7469 - val_acc: 0.3939\n",
            "Epoch 22/50\n",
            "21105/21105 [==============================] - 4s 174us/step - loss: 1.8709 - acc: 0.3283 - val_loss: 1.7465 - val_acc: 0.3904\n",
            "Epoch 23/50\n",
            "21105/21105 [==============================] - 4s 172us/step - loss: 1.8612 - acc: 0.3316 - val_loss: 1.7577 - val_acc: 0.3966\n",
            "Epoch 24/50\n",
            "21105/21105 [==============================] - 4s 174us/step - loss: 1.8633 - acc: 0.3279 - val_loss: 1.7496 - val_acc: 0.3849\n",
            "Epoch 25/50\n",
            "21105/21105 [==============================] - 4s 175us/step - loss: 1.8544 - acc: 0.3367 - val_loss: 1.7356 - val_acc: 0.3946\n",
            "Epoch 26/50\n",
            "21105/21105 [==============================] - 4s 175us/step - loss: 1.8560 - acc: 0.3322 - val_loss: 1.7171 - val_acc: 0.4133\n",
            "Epoch 27/50\n",
            "21105/21105 [==============================] - 4s 176us/step - loss: 1.8479 - acc: 0.3358 - val_loss: 1.7404 - val_acc: 0.4055\n",
            "Epoch 28/50\n",
            "21105/21105 [==============================] - 4s 175us/step - loss: 1.8473 - acc: 0.3362 - val_loss: 1.7423 - val_acc: 0.4036\n",
            "Epoch 29/50\n",
            "21105/21105 [==============================] - 4s 175us/step - loss: 1.8468 - acc: 0.3383 - val_loss: 1.7234 - val_acc: 0.3943\n",
            "Epoch 30/50\n",
            "21105/21105 [==============================] - 4s 173us/step - loss: 1.8512 - acc: 0.3322 - val_loss: 1.7535 - val_acc: 0.4086\n",
            "Epoch 31/50\n",
            "21105/21105 [==============================] - 4s 177us/step - loss: 1.8395 - acc: 0.3432 - val_loss: 1.7112 - val_acc: 0.4063\n",
            "Epoch 32/50\n",
            "21105/21105 [==============================] - 4s 175us/step - loss: 1.8439 - acc: 0.3391 - val_loss: 1.7202 - val_acc: 0.4125\n",
            "Epoch 33/50\n",
            "21105/21105 [==============================] - 4s 176us/step - loss: 1.8368 - acc: 0.3402 - val_loss: 1.7282 - val_acc: 0.4160\n",
            "Epoch 34/50\n",
            "21105/21105 [==============================] - 4s 175us/step - loss: 1.8309 - acc: 0.3444 - val_loss: 1.7189 - val_acc: 0.4226\n",
            "Epoch 35/50\n",
            "21105/21105 [==============================] - 4s 176us/step - loss: 1.8336 - acc: 0.3397 - val_loss: 1.7196 - val_acc: 0.4214\n",
            "Epoch 36/50\n",
            "21105/21105 [==============================] - 4s 177us/step - loss: 1.8307 - acc: 0.3483 - val_loss: 1.7318 - val_acc: 0.4218\n",
            "Epoch 37/50\n",
            "21105/21105 [==============================] - 4s 177us/step - loss: 1.8235 - acc: 0.3465 - val_loss: 1.7124 - val_acc: 0.4206\n",
            "Epoch 38/50\n",
            "21105/21105 [==============================] - 4s 177us/step - loss: 1.8180 - acc: 0.3494 - val_loss: 1.7114 - val_acc: 0.4168\n",
            "Epoch 39/50\n",
            "21105/21105 [==============================] - 4s 175us/step - loss: 1.8179 - acc: 0.3459 - val_loss: 1.6972 - val_acc: 0.4241\n",
            "Epoch 40/50\n",
            "21105/21105 [==============================] - 4s 176us/step - loss: 1.8210 - acc: 0.3457 - val_loss: 1.7216 - val_acc: 0.4187\n",
            "Epoch 41/50\n",
            "21105/21105 [==============================] - 4s 173us/step - loss: 1.8197 - acc: 0.3483 - val_loss: 1.7024 - val_acc: 0.4315\n",
            "Epoch 42/50\n",
            "21105/21105 [==============================] - 4s 172us/step - loss: 1.8170 - acc: 0.3480 - val_loss: 1.7026 - val_acc: 0.4206\n",
            "Epoch 43/50\n",
            "21105/21105 [==============================] - 4s 172us/step - loss: 1.8180 - acc: 0.3507 - val_loss: 1.7098 - val_acc: 0.4237\n",
            "Epoch 44/50\n",
            "21105/21105 [==============================] - 4s 172us/step - loss: 1.8172 - acc: 0.3502 - val_loss: 1.7118 - val_acc: 0.4249\n",
            "Epoch 45/50\n",
            "21105/21105 [==============================] - 4s 173us/step - loss: 1.8144 - acc: 0.3500 - val_loss: 1.7084 - val_acc: 0.4303\n",
            "Epoch 46/50\n",
            "21105/21105 [==============================] - 4s 173us/step - loss: 1.8135 - acc: 0.3520 - val_loss: 1.7292 - val_acc: 0.4237\n",
            "Epoch 47/50\n",
            "21105/21105 [==============================] - 4s 174us/step - loss: 1.8114 - acc: 0.3519 - val_loss: 1.7144 - val_acc: 0.4059\n",
            "Epoch 48/50\n",
            "21105/21105 [==============================] - 4s 177us/step - loss: 1.8118 - acc: 0.3525 - val_loss: 1.7073 - val_acc: 0.4206\n",
            "Epoch 49/50\n",
            "21105/21105 [==============================] - 4s 177us/step - loss: 1.8067 - acc: 0.3528 - val_loss: 1.7108 - val_acc: 0.4261\n",
            "Epoch 50/50\n",
            "21105/21105 [==============================] - 4s 174us/step - loss: 1.8075 - acc: 0.3536 - val_loss: 1.7026 - val_acc: 0.4261\n",
            "CPU times: user 3min 48s, sys: 24.9 s, total: 4min 13s\n",
            "Wall time: 3min 7s\n"
          ],
          "name": "stdout"
        },
        {
          "output_type": "execute_result",
          "data": {
            "text/plain": [
              "<keras.callbacks.History at 0x7f6446ff9940>"
            ]
          },
          "metadata": {
            "tags": []
          },
          "execution_count": 16
        }
      ]
    },
    {
      "metadata": {
        "trusted": true,
        "_uuid": "5810cdd64378592013e6ec177ea8d2082270da12",
        "id": "sZb1PCGPO97t",
        "colab_type": "code",
        "colab": {}
      },
      "cell_type": "code",
      "source": [
        "# Applying CNN with 4 hidden layers, out of which 1 is a CNN layer and 3 are dense layers (deep learning)\n",
        "model = Sequential()\n",
        "model.add(Conv2D(64, kernel_size=(2, 2), activation='relu', input_shape=(8, 5, 1)))\n",
        "model.add(MaxPooling2D(pool_size=(2, 2)))\n",
        "model.add(Dropout(0.25))\n",
        "\n",
        "model.add(Conv2D(32, (2, 2), padding=\"same\", activation=\"relu\", input_shape=(8, 5, 1)))\n",
        "model.add(MaxPooling2D(pool_size=(2, 2)))\n",
        "model.add(Dropout(0.25))\n",
        "model.add(Flatten())\n",
        "\n",
        "model.add(Dense(32, activation='relu'))\n",
        "model.add(Dropout(0.25))\n",
        "          \n",
        "model.add(Dense(32, activation='relu'))\n",
        "model.add(Dropout(0.25))\n",
        "          \n",
        "model.add(Dense(32, activation='relu'))\n",
        "model.add(Dropout(0.25))\n",
        "\n",
        "model.add(Dense(y_train.shape[1], activation = 'softmax'))\n",
        "\n",
        "model.compile(optimizer = 'adam', loss = 'categorical_crossentropy', metrics = ['accuracy'])"
      ],
      "execution_count": 0,
      "outputs": []
    },
    {
      "metadata": {
        "trusted": true,
        "_uuid": "5b6def0a26f884849a53dc794329ba700131ff0c",
        "id": "RQh6hXN0O97y",
        "colab_type": "code",
        "outputId": "3c23d4e8-373e-468d-c1e3-c467e4aa74cd",
        "colab": {
          "base_uri": "https://localhost:8080/",
          "height": 612
        }
      },
      "cell_type": "code",
      "source": [
        "model.summary()"
      ],
      "execution_count": 18,
      "outputs": [
        {
          "output_type": "stream",
          "text": [
            "_________________________________________________________________\n",
            "Layer (type)                 Output Shape              Param #   \n",
            "=================================================================\n",
            "conv2d_2 (Conv2D)            (None, 7, 4, 64)          320       \n",
            "_________________________________________________________________\n",
            "max_pooling2d_2 (MaxPooling2 (None, 3, 2, 64)          0         \n",
            "_________________________________________________________________\n",
            "dropout_7 (Dropout)          (None, 3, 2, 64)          0         \n",
            "_________________________________________________________________\n",
            "conv2d_3 (Conv2D)            (None, 3, 2, 32)          8224      \n",
            "_________________________________________________________________\n",
            "max_pooling2d_3 (MaxPooling2 (None, 1, 1, 32)          0         \n",
            "_________________________________________________________________\n",
            "dropout_8 (Dropout)          (None, 1, 1, 32)          0         \n",
            "_________________________________________________________________\n",
            "flatten_2 (Flatten)          (None, 32)                0         \n",
            "_________________________________________________________________\n",
            "dense_8 (Dense)              (None, 32)                1056      \n",
            "_________________________________________________________________\n",
            "dropout_9 (Dropout)          (None, 32)                0         \n",
            "_________________________________________________________________\n",
            "dense_9 (Dense)              (None, 32)                1056      \n",
            "_________________________________________________________________\n",
            "dropout_10 (Dropout)         (None, 32)                0         \n",
            "_________________________________________________________________\n",
            "dense_10 (Dense)             (None, 32)                1056      \n",
            "_________________________________________________________________\n",
            "dropout_11 (Dropout)         (None, 32)                0         \n",
            "_________________________________________________________________\n",
            "dense_11 (Dense)             (None, 10)                330       \n",
            "=================================================================\n",
            "Total params: 12,042\n",
            "Trainable params: 12,042\n",
            "Non-trainable params: 0\n",
            "_________________________________________________________________\n"
          ],
          "name": "stdout"
        }
      ]
    },
    {
      "metadata": {
        "trusted": true,
        "_uuid": "667f35b656ace86ffedb2137de69f05c5fc7e5ab",
        "id": "hgzwDjqfO972",
        "colab_type": "code",
        "outputId": "dad0cf9d-0ee9-41c6-896e-5a065ca98af0",
        "colab": {
          "base_uri": "https://localhost:8080/",
          "height": 1785
        }
      },
      "cell_type": "code",
      "source": [
        "# Fitting the model \n",
        "%%time\n",
        "model.fit(X_train.reshape(X_train.shape[0], 8, 5, 1), y_train, batch_size = 32, epochs = 50, validation_data = [X_val.reshape(X_val.shape[0], 8, 5, 1), y_val], verbose = 1)"
      ],
      "execution_count": 20,
      "outputs": [
        {
          "output_type": "stream",
          "text": [
            "Train on 21105 samples, validate on 2577 samples\n",
            "Epoch 1/50\n",
            "21105/21105 [==============================] - 5s 247us/step - loss: 2.1378 - acc: 0.2087 - val_loss: 2.0859 - val_acc: 0.2390\n",
            "Epoch 2/50\n",
            "21105/21105 [==============================] - 5s 243us/step - loss: 2.1378 - acc: 0.2096 - val_loss: 2.0807 - val_acc: 0.2507\n",
            "Epoch 3/50\n",
            "21105/21105 [==============================] - 5s 244us/step - loss: 2.1299 - acc: 0.2166 - val_loss: 2.0796 - val_acc: 0.2549\n",
            "Epoch 4/50\n",
            "21105/21105 [==============================] - 5s 246us/step - loss: 2.1246 - acc: 0.2149 - val_loss: 2.0836 - val_acc: 0.2375\n",
            "Epoch 5/50\n",
            "21105/21105 [==============================] - 5s 247us/step - loss: 2.1242 - acc: 0.2208 - val_loss: 2.0580 - val_acc: 0.2627\n",
            "Epoch 6/50\n",
            "21105/21105 [==============================] - 5s 246us/step - loss: 2.1189 - acc: 0.2181 - val_loss: 2.0549 - val_acc: 0.2565\n",
            "Epoch 7/50\n",
            "21105/21105 [==============================] - 5s 247us/step - loss: 2.1151 - acc: 0.2268 - val_loss: 2.0585 - val_acc: 0.2452\n",
            "Epoch 8/50\n",
            "21105/21105 [==============================] - 5s 247us/step - loss: 2.1153 - acc: 0.2255 - val_loss: 2.0751 - val_acc: 0.2460\n",
            "Epoch 9/50\n",
            "21105/21105 [==============================] - 5s 246us/step - loss: 2.1083 - acc: 0.2278 - val_loss: 2.0587 - val_acc: 0.2577\n",
            "Epoch 10/50\n",
            "21105/21105 [==============================] - 5s 248us/step - loss: 2.1088 - acc: 0.2293 - val_loss: 2.0682 - val_acc: 0.2507\n",
            "Epoch 11/50\n",
            "21105/21105 [==============================] - 5s 246us/step - loss: 2.1073 - acc: 0.2263 - val_loss: 2.0614 - val_acc: 0.2608\n",
            "Epoch 12/50\n",
            "21105/21105 [==============================] - 5s 247us/step - loss: 2.1012 - acc: 0.2244 - val_loss: 2.0568 - val_acc: 0.2511\n",
            "Epoch 13/50\n",
            "21105/21105 [==============================] - 5s 249us/step - loss: 2.1047 - acc: 0.2273 - val_loss: 2.0665 - val_acc: 0.2588\n",
            "Epoch 14/50\n",
            "21105/21105 [==============================] - 5s 248us/step - loss: 2.0933 - acc: 0.2302 - val_loss: 2.0434 - val_acc: 0.2693\n",
            "Epoch 15/50\n",
            "21105/21105 [==============================] - 5s 247us/step - loss: 2.0975 - acc: 0.2325 - val_loss: 2.0453 - val_acc: 0.2573\n",
            "Epoch 16/50\n",
            "21105/21105 [==============================] - 5s 246us/step - loss: 2.0981 - acc: 0.2310 - val_loss: 2.0474 - val_acc: 0.2631\n",
            "Epoch 17/50\n",
            "21105/21105 [==============================] - 5s 242us/step - loss: 2.0977 - acc: 0.2303 - val_loss: 2.0494 - val_acc: 0.2631\n",
            "Epoch 18/50\n",
            "21105/21105 [==============================] - 5s 241us/step - loss: 2.0953 - acc: 0.2310 - val_loss: 2.0515 - val_acc: 0.2596\n",
            "Epoch 19/50\n",
            "21105/21105 [==============================] - 5s 241us/step - loss: 2.0932 - acc: 0.2330 - val_loss: 2.0453 - val_acc: 0.2604\n",
            "Epoch 20/50\n",
            "21105/21105 [==============================] - 5s 244us/step - loss: 2.0890 - acc: 0.2357 - val_loss: 2.0458 - val_acc: 0.2623\n",
            "Epoch 21/50\n",
            "21105/21105 [==============================] - 5s 244us/step - loss: 2.0843 - acc: 0.2337 - val_loss: 2.0493 - val_acc: 0.2565\n",
            "Epoch 22/50\n",
            "21105/21105 [==============================] - 5s 245us/step - loss: 2.0867 - acc: 0.2344 - val_loss: 2.0364 - val_acc: 0.2584\n",
            "Epoch 23/50\n",
            "21105/21105 [==============================] - 5s 245us/step - loss: 2.0850 - acc: 0.2380 - val_loss: 2.0513 - val_acc: 0.2468\n",
            "Epoch 24/50\n",
            "21105/21105 [==============================] - 5s 244us/step - loss: 2.0874 - acc: 0.2345 - val_loss: 2.0546 - val_acc: 0.2484\n",
            "Epoch 25/50\n",
            "21105/21105 [==============================] - 5s 246us/step - loss: 2.0870 - acc: 0.2342 - val_loss: 2.0390 - val_acc: 0.2581\n",
            "Epoch 26/50\n",
            "21105/21105 [==============================] - 5s 243us/step - loss: 2.0846 - acc: 0.2392 - val_loss: 2.0313 - val_acc: 0.2724\n",
            "Epoch 27/50\n",
            "21105/21105 [==============================] - 5s 245us/step - loss: 2.0820 - acc: 0.2370 - val_loss: 2.0365 - val_acc: 0.2658\n",
            "Epoch 28/50\n",
            "21105/21105 [==============================] - 5s 242us/step - loss: 2.0815 - acc: 0.2358 - val_loss: 2.0471 - val_acc: 0.2592\n",
            "Epoch 29/50\n",
            "21105/21105 [==============================] - 5s 245us/step - loss: 2.0768 - acc: 0.2434 - val_loss: 2.0331 - val_acc: 0.2639\n",
            "Epoch 30/50\n",
            "21105/21105 [==============================] - 5s 245us/step - loss: 2.0782 - acc: 0.2407 - val_loss: 2.0324 - val_acc: 0.2581\n",
            "Epoch 31/50\n",
            "21105/21105 [==============================] - 5s 247us/step - loss: 2.0802 - acc: 0.2369 - val_loss: 2.0279 - val_acc: 0.2697\n",
            "Epoch 32/50\n",
            "21105/21105 [==============================] - 5s 246us/step - loss: 2.0785 - acc: 0.2368 - val_loss: 2.0290 - val_acc: 0.2689\n",
            "Epoch 33/50\n",
            "21105/21105 [==============================] - 5s 247us/step - loss: 2.0816 - acc: 0.2386 - val_loss: 2.0315 - val_acc: 0.2709\n",
            "Epoch 34/50\n",
            "21105/21105 [==============================] - 5s 247us/step - loss: 2.0791 - acc: 0.2360 - val_loss: 2.0298 - val_acc: 0.2646\n",
            "Epoch 35/50\n",
            "21105/21105 [==============================] - 5s 245us/step - loss: 2.0751 - acc: 0.2391 - val_loss: 2.0326 - val_acc: 0.2728\n",
            "Epoch 36/50\n",
            "21105/21105 [==============================] - 5s 247us/step - loss: 2.0729 - acc: 0.2403 - val_loss: 2.0226 - val_acc: 0.2724\n",
            "Epoch 37/50\n",
            "21105/21105 [==============================] - 5s 246us/step - loss: 2.0724 - acc: 0.2383 - val_loss: 2.0370 - val_acc: 0.2654\n",
            "Epoch 38/50\n",
            "21105/21105 [==============================] - 5s 247us/step - loss: 2.0695 - acc: 0.2438 - val_loss: 2.0288 - val_acc: 0.2697\n",
            "Epoch 39/50\n",
            "21105/21105 [==============================] - 5s 247us/step - loss: 2.0712 - acc: 0.2397 - val_loss: 2.0269 - val_acc: 0.2654\n",
            "Epoch 40/50\n",
            "21105/21105 [==============================] - 5s 245us/step - loss: 2.0729 - acc: 0.2416 - val_loss: 2.0226 - val_acc: 0.2650\n",
            "Epoch 41/50\n",
            "21105/21105 [==============================] - 5s 244us/step - loss: 2.0709 - acc: 0.2400 - val_loss: 2.0255 - val_acc: 0.2744\n",
            "Epoch 42/50\n",
            "21105/21105 [==============================] - 5s 242us/step - loss: 2.0732 - acc: 0.2410 - val_loss: 2.0325 - val_acc: 0.2709\n",
            "Epoch 43/50\n",
            "21105/21105 [==============================] - 5s 243us/step - loss: 2.0707 - acc: 0.2398 - val_loss: 2.0225 - val_acc: 0.2685\n",
            "Epoch 44/50\n",
            "21105/21105 [==============================] - 5s 242us/step - loss: 2.0706 - acc: 0.2438 - val_loss: 2.0247 - val_acc: 0.2662\n",
            "Epoch 45/50\n",
            "21105/21105 [==============================] - 5s 243us/step - loss: 2.0683 - acc: 0.2415 - val_loss: 2.0181 - val_acc: 0.2600\n",
            "Epoch 46/50\n",
            "21105/21105 [==============================] - 5s 244us/step - loss: 2.0683 - acc: 0.2446 - val_loss: 2.0392 - val_acc: 0.2604\n",
            "Epoch 47/50\n",
            "21105/21105 [==============================] - 5s 246us/step - loss: 2.0686 - acc: 0.2416 - val_loss: 2.0336 - val_acc: 0.2728\n",
            "Epoch 48/50\n",
            "21105/21105 [==============================] - 5s 246us/step - loss: 2.0702 - acc: 0.2426 - val_loss: 2.0265 - val_acc: 0.2658\n",
            "Epoch 49/50\n",
            "21105/21105 [==============================] - 5s 245us/step - loss: 2.0665 - acc: 0.2408 - val_loss: 2.0259 - val_acc: 0.2643\n",
            "Epoch 50/50\n",
            "21105/21105 [==============================] - 5s 248us/step - loss: 2.0705 - acc: 0.2387 - val_loss: 2.0220 - val_acc: 0.2685\n",
            "CPU times: user 5min, sys: 26.3 s, total: 5min 26s\n",
            "Wall time: 4min 18s\n"
          ],
          "name": "stdout"
        },
        {
          "output_type": "execute_result",
          "data": {
            "text/plain": [
              "<keras.callbacks.History at 0x7f648cc4ec88>"
            ]
          },
          "metadata": {
            "tags": []
          },
          "execution_count": 20
        }
      ]
    },
    {
      "metadata": {
        "trusted": true,
        "_uuid": "643565974c4058d9a6ef3863873b880e76d45212",
        "id": "E17z6QLFO97_",
        "colab_type": "code",
        "colab": {}
      },
      "cell_type": "code",
      "source": [
        ""
      ],
      "execution_count": 0,
      "outputs": []
    }
  ]
}